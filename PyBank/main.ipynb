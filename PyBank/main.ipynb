{
 "cells": [
  {
   "cell_type": "code",
   "execution_count": 99,
   "id": "0712fa54-ed55-4362-8037-ba82fda8f212",
   "metadata": {},
   "outputs": [
    {
     "data": {
      "text/html": [
       "<div>\n",
       "<style scoped>\n",
       "    .dataframe tbody tr th:only-of-type {\n",
       "        vertical-align: middle;\n",
       "    }\n",
       "\n",
       "    .dataframe tbody tr th {\n",
       "        vertical-align: top;\n",
       "    }\n",
       "\n",
       "    .dataframe thead th {\n",
       "        text-align: right;\n",
       "    }\n",
       "</style>\n",
       "<table border=\"1\" class=\"dataframe\">\n",
       "  <thead>\n",
       "    <tr style=\"text-align: right;\">\n",
       "      <th></th>\n",
       "      <th>Date</th>\n",
       "      <th>Profit/Losses</th>\n",
       "    </tr>\n",
       "  </thead>\n",
       "  <tbody>\n",
       "    <tr>\n",
       "      <th>0</th>\n",
       "      <td>Jan-2010</td>\n",
       "      <td>867884</td>\n",
       "    </tr>\n",
       "    <tr>\n",
       "      <th>1</th>\n",
       "      <td>Feb-2010</td>\n",
       "      <td>984655</td>\n",
       "    </tr>\n",
       "    <tr>\n",
       "      <th>2</th>\n",
       "      <td>Mar-2010</td>\n",
       "      <td>322013</td>\n",
       "    </tr>\n",
       "    <tr>\n",
       "      <th>3</th>\n",
       "      <td>Apr-2010</td>\n",
       "      <td>-69417</td>\n",
       "    </tr>\n",
       "    <tr>\n",
       "      <th>4</th>\n",
       "      <td>May-2010</td>\n",
       "      <td>310503</td>\n",
       "    </tr>\n",
       "  </tbody>\n",
       "</table>\n",
       "</div>"
      ],
      "text/plain": [
       "       Date  Profit/Losses\n",
       "0  Jan-2010         867884\n",
       "1  Feb-2010         984655\n",
       "2  Mar-2010         322013\n",
       "3  Apr-2010         -69417\n",
       "4  May-2010         310503"
      ]
     },
     "execution_count": 99,
     "metadata": {},
     "output_type": "execute_result"
    }
   ],
   "source": [
    "import pandas as pd\n",
    "from pathlib import Path\n",
    "csvpath = Path(\"../PyBank/budget_data.csv\")\n",
    "budget_dataframe = pd.read_csv(csvpath)\n",
    "budget_dataframe.head()"
   ]
  },
  {
   "cell_type": "code",
   "execution_count": 90,
   "id": "2aecf3be-6946-4b94-8e33-9c1396ab3699",
   "metadata": {},
   "outputs": [],
   "source": [
    "count_months = budget_dataframe[\"Date\"].count()"
   ]
  },
  {
   "cell_type": "code",
   "execution_count": 91,
   "id": "dd46e026-f7be-4acc-a9c9-72a0240e916c",
   "metadata": {},
   "outputs": [],
   "source": [
    "total_profit = budget_dataframe[\"Profit/Losses\"].sum()"
   ]
  },
  {
   "cell_type": "code",
   "execution_count": 92,
   "id": "3c3fd9b4-e96c-4644-bb5e-7f94b8625cc7",
   "metadata": {},
   "outputs": [],
   "source": [
    "change = budget_dataframe[\"Profit/Losses\"].diff()\n",
    "average_change = change.mean()"
   ]
  },
  {
   "cell_type": "code",
   "execution_count": 93,
   "id": "1480b693-a3ab-40be-9757-8e2157e72a30",
   "metadata": {},
   "outputs": [],
   "source": [
    "df=pd.read_csv(\"budget_data.csv\")\n",
    "budget_dataframe.set_index(\"Profit/Losses\")\n",
    "max_gain = budget_dataframe.iloc[df[\"Profit/Losses\"].idxmax()]"
   ]
  },
  {
   "cell_type": "code",
   "execution_count": 94,
   "id": "67b99342-ecd1-4e7b-8f49-21313f3884c4",
   "metadata": {},
   "outputs": [],
   "source": [
    "max_loss = budget_dataframe.iloc[df[\"Profit/Losses\"].idxmin()]"
   ]
  },
  {
   "cell_type": "code",
   "execution_count": 100,
   "id": "c625041f-f66d-493d-b5f9-53333f5f691e",
   "metadata": {},
   "outputs": [],
   "source": [
    "output_path = Path(\"hw2results.txt\")\n",
    "with open(output_path, \"w\") as file:\n",
    "    file.write(f\"Financial Analysis \\n\")\n",
    "    file.write(f\"----------------------------------------------- \\n\")\n",
    "    file.write(f\"Total Months: {count_months} \\n\")\n",
    "    file.write(f\"Total Profit: {total_profit} \\n\")\n",
    "    file.write(f\"Average Change: {average_change} \\n\")\n",
    "    file.write(f\"Max Gain: {max_gain} \\n\")\n",
    "    file.write(f\"Max Loss: {max_loss} \\n\")\n",
    "    file.close()"
   ]
  },
  {
   "cell_type": "code",
   "execution_count": null,
   "id": "cf2c1c56-a492-45aa-b3e5-7f434ceb8295",
   "metadata": {},
   "outputs": [],
   "source": []
  },
  {
   "cell_type": "code",
   "execution_count": null,
   "id": "c9f71aa0-29ae-4dd3-bec3-dd7e5197a1d6",
   "metadata": {},
   "outputs": [],
   "source": []
  }
 ],
 "metadata": {
  "kernelspec": {
   "display_name": "Python 3 (ipykernel)",
   "language": "python",
   "name": "python3"
  },
  "language_info": {
   "codemirror_mode": {
    "name": "ipython",
    "version": 3
   },
   "file_extension": ".py",
   "mimetype": "text/x-python",
   "name": "python",
   "nbconvert_exporter": "python",
   "pygments_lexer": "ipython3",
   "version": "3.9.7"
  }
 },
 "nbformat": 4,
 "nbformat_minor": 5
}
