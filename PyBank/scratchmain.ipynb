{
 "cells": [
  {
   "cell_type": "code",
   "execution_count": 22,
   "id": "22a80eeb-1507-45b8-900d-9540e6659cc8",
   "metadata": {},
   "outputs": [
    {
     "data": {
      "text/plain": [
       "86"
      ]
     },
     "execution_count": 22,
     "metadata": {},
     "output_type": "execute_result"
    }
   ],
   "source": [
    "#COUNT MONTHS\n",
    "import pandas as pd\n",
    "from pathlib import Path\n",
    "csvpath = Path(\"../PyBank/budget_data.csv\")\n",
    "budget_dataframe = pd.read_csv(csvpath)\n",
    "budget_dataframe.head()\n",
    "budget_dataframe[\"Date\"].count()"
   ]
  },
  {
   "cell_type": "code",
   "execution_count": 24,
   "id": "44592305-8462-458b-bb6b-c2538a660756",
   "metadata": {},
   "outputs": [
    {
     "data": {
      "text/plain": [
       "38382578"
      ]
     },
     "execution_count": 24,
     "metadata": {},
     "output_type": "execute_result"
    }
   ],
   "source": [
    "#TOTAL P/L\n",
    "import pandas as pd\n",
    "from pathlib import Path\n",
    "csvpath = Path(\"../PyBank/budget_data.csv\")\n",
    "budget_dataframe = pd.read_csv(csvpath)\n",
    "budget_dataframe.head()\n",
    "budget_dataframe[\"Profit/Losses\"].sum()"
   ]
  },
  {
   "cell_type": "code",
   "execution_count": 26,
   "id": "0bf3fb2e-266e-4a70-be57-2393b4bdcbbd",
   "metadata": {},
   "outputs": [
    {
     "data": {
      "text/plain": [
       "446309.0465116279"
      ]
     },
     "execution_count": 26,
     "metadata": {},
     "output_type": "execute_result"
    }
   ],
   "source": [
    "#AVERAGE P/L\n",
    "import pandas as pd\n",
    "from pathlib import Path\n",
    "csvpath = Path(\"../PyBank/budget_data.csv\")\n",
    "budget_dataframe = pd.read_csv(csvpath)\n",
    "budget_dataframe.head()\n",
    "budget_dataframe[\"Profit/Losses\"].mean()"
   ]
  },
  {
   "cell_type": "code",
   "execution_count": 43,
   "id": "fbd70579-1de8-4b27-af42-b349e4a38cc5",
   "metadata": {},
   "outputs": [
    {
     "name": "stdout",
     "output_type": "stream",
     "text": [
      "1170593\n"
     ]
    }
   ],
   "source": [
    "#MAX P/L\n",
    "import pandas as pd\n",
    "from pathlib import Path\n",
    "csvpath = Path(\"../PyBank/budget_data.csv\")\n",
    "budget_dataframe = pd.read_csv(csvpath)\n",
    "budget_dataframe.head()\n",
    "df=pd.read_csv(\"budget_data.csv\")\n",
    "maxx=df[\"Profit/Losses\"].max()\n",
    "print(maxx)"
   ]
  },
  {
   "cell_type": "code",
   "execution_count": 44,
   "id": "198e7399-dd68-4774-87b3-16f8d9bdb7f1",
   "metadata": {},
   "outputs": [
    {
     "name": "stdout",
     "output_type": "stream",
     "text": [
      "-1196225\n"
     ]
    }
   ],
   "source": [
    "#MIN P/L\n",
    "import pandas as pd\n",
    "from pathlib import Path\n",
    "csvpath = Path(\"../PyBank/budget_data.csv\")\n",
    "budget_dataframe = pd.read_csv(csvpath)\n",
    "budget_dataframe.head()\n",
    "df=pd.read_csv(\"budget_data.csv\")\n",
    "minn=df[\"Profit/Losses\"].min()\n",
    "print(minn)"
   ]
  },
  {
   "cell_type": "code",
   "execution_count": 132,
   "id": "e185c1b0-30e9-4a99-8a56-5a99697a62f1",
   "metadata": {},
   "outputs": [
    {
     "name": "stdout",
     "output_type": "stream",
     "text": [
      "Date             Apr-2010\n",
      "Profit/Losses    -1196225\n",
      "dtype: object\n"
     ]
    }
   ],
   "source": [
    "#MIN P/L WITH DATE\n",
    "import pandas as pd\n",
    "from pathlib import Path\n",
    "%matplotlib inline\n",
    "csvpath = Path(\"../PyBank/budget_data.csv\")\n",
    "budget_dataframe = pd.read_csv(csvpath)\n",
    "minn=budget_dataframe.min()\n",
    "budget_dataframe.head()\n",
    "budget_dataframe.set_index(\"Profit/Losses\")\n",
    "print(minn)"
   ]
  },
  {
   "cell_type": "code",
   "execution_count": 191,
   "id": "2790e946-d831-4f06-ac84-5ad1aae21fd0",
   "metadata": {},
   "outputs": [
    {
     "name": "stdout",
     "output_type": "stream",
     "text": [
      "Date             Sep-2016\n",
      "Profit/Losses     1170593\n",
      "dtype: object\n"
     ]
    }
   ],
   "source": [
    "#MAX P/L WITH DATE\n",
    "import pandas as pd\n",
    "from pathlib import Path\n",
    "csvpath = Path(\"../PyBank/budget_data.csv\")\n",
    "budget_dataframe = pd.read_csv(csvpath)\n",
    "maxx=budget_dataframe.max()\n",
    "print(maxx)"
   ]
  },
  {
   "cell_type": "code",
   "execution_count": 64,
   "id": "78fef5f6-1829-4589-9dc8-44a353d4076c",
   "metadata": {},
   "outputs": [
    {
     "name": "stdout",
     "output_type": "stream",
     "text": [
      "9.651835674090133\n"
     ]
    }
   ],
   "source": [
    "#MAX PCT CHANGE (MONTH OVER MONTH)\n",
    "import pandas as pd\n",
    "from pathlib import Path\n",
    "csvpath = Path(\"../PyBank/budget_data.csv\")\n",
    "budget_dataframe = pd.read_csv(csvpath)\n",
    "budget_dataframe.head()\n",
    "change = budget_dataframe[\"Profit/Losses\"].pct_change()\n",
    "changemax = change.max()\n",
    "print(changemax)"
   ]
  },
  {
   "cell_type": "code",
   "execution_count": 65,
   "id": "2a93f911-1a74-48dc-8547-a1cf6de388e0",
   "metadata": {},
   "outputs": [
    {
     "name": "stdout",
     "output_type": "stream",
     "text": [
      "-10.704752778365462\n"
     ]
    }
   ],
   "source": [
    "#MIN PCT CHANGE (MONTH OVER MONTH)\n",
    "import pandas as pd\n",
    "from pathlib import Path\n",
    "csvpath = Path(\"../PyBank/budget_data.csv\")\n",
    "budget_dataframe = pd.read_csv(csvpath)\n",
    "budget_dataframe.head()\n",
    "change = budget_dataframe[\"Profit/Losses\"].pct_change()\n",
    "changemin = change.min()\n",
    "print(changemin)"
   ]
  },
  {
   "cell_type": "code",
   "execution_count": 195,
   "id": "196343a0-d84e-4aab-8160-1d1742c67006",
   "metadata": {},
   "outputs": [
    {
     "name": "stdout",
     "output_type": "stream",
     "text": [
      "1926159.0\n"
     ]
    }
   ],
   "source": [
    "#MAX DIFFERENCE (MONTH OVER MONTH)\n",
    "import pandas as pd\n",
    "from pathlib import Path\n",
    "csvpath = Path(\"../PyBank/budget_data.csv\")\n",
    "budget_dataframe = pd.read_csv(csvpath)\n",
    "budget_dataframe.head()\n",
    "budget_dataframe.set_index(\"Profit/Losses\")\n",
    "change = budget_dataframe[\"Profit/Losses\"].diff()\n",
    "changemax = change.max()\n",
    "print(changemax)"
   ]
  },
  {
   "cell_type": "code",
   "execution_count": 250,
   "id": "dd80ec6c-9f2a-49d4-9ec1-512d25530992",
   "metadata": {},
   "outputs": [
    {
     "data": {
      "text/plain": [
       "Date             Sep-2013\n",
       "Profit/Losses    -1196225\n",
       "Name: 44, dtype: object"
      ]
     },
     "execution_count": 250,
     "metadata": {},
     "output_type": "execute_result"
    }
   ],
   "source": [
    "#MIN DIFFERENCE (MONTH OVER MONTH)\n",
    "import pandas as pd\n",
    "from pathlib import Path\n",
    "csvpath = Path(\"../PyBank/budget_data.csv\")\n",
    "budget_dataframe = pd.read_csv(csvpath)\n",
    "budget_dataframe.head()\n",
    "budget_dataframe.set_index(\"Profit/Losses\")\n",
    "budget_dataframe.iloc[df[\"Profit/Losses\"].idxmin()]"
   ]
  },
  {
   "cell_type": "code",
   "execution_count": 245,
   "id": "d197758c-cd0f-45b6-a34f-d26bba95b22c",
   "metadata": {},
   "outputs": [
    {
     "data": {
      "text/plain": [
       "Date             Feb-2012\n",
       "Profit/Losses     1170593\n",
       "Name: 25, dtype: object"
      ]
     },
     "execution_count": 245,
     "metadata": {},
     "output_type": "execute_result"
    }
   ],
   "source": [
    "#MAX DIFFERENCE (MONTH OVER MONTH) WITH DATE\n",
    "import pandas as pd\n",
    "from pathlib import Path\n",
    "csvpath = Path(\"../PyBank/budget_data.csv\")\n",
    "budget_dataframe = pd.read_csv(csvpath)\n",
    "budget_dataframe.head()\n",
    "budget_dataframe.set_index(\"Profit/Losses\")\n",
    "budget_dataframe.iloc[df[\"Profit/Losses\"].idxmax()]"
   ]
  },
  {
   "cell_type": "code",
   "execution_count": 153,
   "id": "5086d2a8-248e-4656-9cbe-391cd8cfd7eb",
   "metadata": {},
   "outputs": [
    {
     "name": "stdout",
     "output_type": "stream",
     "text": [
      "-2315.1176470588234\n"
     ]
    }
   ],
   "source": [
    "#AVERAGE DIFFERENCE (MONTH OVER MONTH)\n",
    "import pandas as pd\n",
    "from pathlib import Path\n",
    "csvpath = Path(\"../PyBank/budget_data.csv\")\n",
    "budget_dataframe = pd.read_csv(csvpath)\n",
    "budget_dataframe.head()\n",
    "change = budget_dataframe[\"Profit/Losses\"].diff()\n",
    "changeavg = change.mean()\n",
    "print(changeavg)"
   ]
  },
  {
   "cell_type": "code",
   "execution_count": 249,
   "id": "a16193f0-5e61-4a04-ab5e-2116e2f5211a",
   "metadata": {},
   "outputs": [],
   "source": [
    "#TXT\n",
    "import pandas as pd\n",
    "from pathlib import Path\n",
    "%matplotlib inline\n",
    "csvpath = Path(\"../PyBank/budget_data.csv\")\n",
    "budget_dataframe = pd.read_csv(csvpath)\n",
    "maxx=budget_dataframe.max()\n",
    "budget_dataframe.head()\n",
    "budget_dataframe.set_index(\"Profit/Losses\")\n",
    "budget_dataframe.to_csv(r\"../PyBank/hw2results.txt\", header=None, index=None, sep=' ', mode='a')"
   ]
  },
  {
   "cell_type": "code",
   "execution_count": null,
   "id": "3f9fdad1-e0be-41f6-ac2d-c75e9c48b377",
   "metadata": {},
   "outputs": [],
   "source": [
    "budget_dataframe.to_csv(r\"../PyBank/hw2results.txt\", header=None, index=None, sep=' ', mode='a')"
   ]
  }
 ],
 "metadata": {
  "kernelspec": {
   "display_name": "Python 3 (ipykernel)",
   "language": "python",
   "name": "python3"
  },
  "language_info": {
   "codemirror_mode": {
    "name": "ipython",
    "version": 3
   },
   "file_extension": ".py",
   "mimetype": "text/x-python",
   "name": "python",
   "nbconvert_exporter": "python",
   "pygments_lexer": "ipython3",
   "version": "3.9.7"
  }
 },
 "nbformat": 4,
 "nbformat_minor": 5
}
